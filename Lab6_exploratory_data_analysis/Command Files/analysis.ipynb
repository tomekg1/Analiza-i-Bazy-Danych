{
 "cells": [
  {
   "cell_type": "code",
   "execution_count": 25,
   "metadata": {},
   "outputs": [
    {
     "data": {
      "text/html": [
       "<div>\n",
       "<style scoped>\n",
       "    .dataframe tbody tr th:only-of-type {\n",
       "        vertical-align: middle;\n",
       "    }\n",
       "\n",
       "    .dataframe tbody tr th {\n",
       "        vertical-align: top;\n",
       "    }\n",
       "\n",
       "    .dataframe thead th {\n",
       "        text-align: right;\n",
       "    }\n",
       "</style>\n",
       "<table border=\"1\" class=\"dataframe\">\n",
       "  <thead>\n",
       "    <tr style=\"text-align: right;\">\n",
       "      <th></th>\n",
       "      <th>Dni od zakupu</th>\n",
       "      <th>Marka</th>\n",
       "      <th>Wiek kupującego</th>\n",
       "      <th>Płeć kupującego</th>\n",
       "      <th>Ocena</th>\n",
       "    </tr>\n",
       "  </thead>\n",
       "  <tbody>\n",
       "    <tr>\n",
       "      <th>0</th>\n",
       "      <td>4</td>\n",
       "      <td>Samsung</td>\n",
       "      <td>39.0</td>\n",
       "      <td>M</td>\n",
       "      <td>2.0</td>\n",
       "    </tr>\n",
       "    <tr>\n",
       "      <th>1</th>\n",
       "      <td>7</td>\n",
       "      <td>Dyson</td>\n",
       "      <td>39.0</td>\n",
       "      <td>M</td>\n",
       "      <td>1.0</td>\n",
       "    </tr>\n",
       "    <tr>\n",
       "      <th>2</th>\n",
       "      <td>5</td>\n",
       "      <td>Dyson</td>\n",
       "      <td>34.0</td>\n",
       "      <td>K</td>\n",
       "      <td>2.0</td>\n",
       "    </tr>\n",
       "    <tr>\n",
       "      <th>3</th>\n",
       "      <td>8</td>\n",
       "      <td>Samsung</td>\n",
       "      <td>NaN</td>\n",
       "      <td>K</td>\n",
       "      <td>1.0</td>\n",
       "    </tr>\n",
       "    <tr>\n",
       "      <th>4</th>\n",
       "      <td>4</td>\n",
       "      <td>Dyson</td>\n",
       "      <td>42.0</td>\n",
       "      <td>M</td>\n",
       "      <td>0.5</td>\n",
       "    </tr>\n",
       "    <tr>\n",
       "      <th>5</th>\n",
       "      <td>5</td>\n",
       "      <td>Dyson</td>\n",
       "      <td>NaN</td>\n",
       "      <td>K</td>\n",
       "      <td>2.0</td>\n",
       "    </tr>\n",
       "    <tr>\n",
       "      <th>6</th>\n",
       "      <td>9</td>\n",
       "      <td>Samsung</td>\n",
       "      <td>60.0</td>\n",
       "      <td>M</td>\n",
       "      <td>3.5</td>\n",
       "    </tr>\n",
       "    <tr>\n",
       "      <th>7</th>\n",
       "      <td>9</td>\n",
       "      <td>Electrolux</td>\n",
       "      <td>48.0</td>\n",
       "      <td>M</td>\n",
       "      <td>1.5</td>\n",
       "    </tr>\n",
       "  </tbody>\n",
       "</table>\n",
       "</div>"
      ],
      "text/plain": [
       "   Dni od zakupu       Marka  Wiek kupującego Płeć kupującego  Ocena\n",
       "0              4     Samsung             39.0               M    2.0\n",
       "1              7       Dyson             39.0               M    1.0\n",
       "2              5       Dyson             34.0               K    2.0\n",
       "3              8     Samsung              NaN               K    1.0\n",
       "4              4       Dyson             42.0               M    0.5\n",
       "5              5       Dyson              NaN               K    2.0\n",
       "6              9     Samsung             60.0               M    3.5\n",
       "7              9  Electrolux             48.0               M    1.5"
      ]
     },
     "execution_count": 25,
     "metadata": {},
     "output_type": "execute_result"
    }
   ],
   "source": [
    "import pandas as pd\n",
    "import matplotlib.pyplot as plt\n",
    "\n",
    "original_df = pd.read_csv(\"..\\\\Original Data\\\\2_LUBELSKIE.csv\", index_col='Unnamed: 0') # usuwam dodatkowa kolumne z indeksem\n",
    "original_df.head(8)"
   ]
  },
  {
   "cell_type": "code",
   "execution_count": 7,
   "metadata": {},
   "outputs": [
    {
     "data": {
      "text/html": [
       "<div>\n",
       "<style scoped>\n",
       "    .dataframe tbody tr th:only-of-type {\n",
       "        vertical-align: middle;\n",
       "    }\n",
       "\n",
       "    .dataframe tbody tr th {\n",
       "        vertical-align: top;\n",
       "    }\n",
       "\n",
       "    .dataframe thead th {\n",
       "        text-align: right;\n",
       "    }\n",
       "</style>\n",
       "<table border=\"1\" class=\"dataframe\">\n",
       "  <thead>\n",
       "    <tr style=\"text-align: right;\">\n",
       "      <th></th>\n",
       "      <th>Dni od zakupu</th>\n",
       "      <th>Wiek kupującego</th>\n",
       "      <th>Ocena</th>\n",
       "    </tr>\n",
       "  </thead>\n",
       "  <tbody>\n",
       "    <tr>\n",
       "      <th>count</th>\n",
       "      <td>467.000000</td>\n",
       "      <td>417.000000</td>\n",
       "      <td>467.000000</td>\n",
       "    </tr>\n",
       "    <tr>\n",
       "      <th>mean</th>\n",
       "      <td>6.927195</td>\n",
       "      <td>39.844125</td>\n",
       "      <td>2.382227</td>\n",
       "    </tr>\n",
       "    <tr>\n",
       "      <th>std</th>\n",
       "      <td>2.520101</td>\n",
       "      <td>9.494795</td>\n",
       "      <td>1.079980</td>\n",
       "    </tr>\n",
       "    <tr>\n",
       "      <th>min</th>\n",
       "      <td>1.000000</td>\n",
       "      <td>18.000000</td>\n",
       "      <td>0.000000</td>\n",
       "    </tr>\n",
       "    <tr>\n",
       "      <th>25%</th>\n",
       "      <td>5.000000</td>\n",
       "      <td>33.000000</td>\n",
       "      <td>1.500000</td>\n",
       "    </tr>\n",
       "    <tr>\n",
       "      <th>50%</th>\n",
       "      <td>7.000000</td>\n",
       "      <td>40.000000</td>\n",
       "      <td>2.500000</td>\n",
       "    </tr>\n",
       "    <tr>\n",
       "      <th>75%</th>\n",
       "      <td>8.000000</td>\n",
       "      <td>46.000000</td>\n",
       "      <td>3.000000</td>\n",
       "    </tr>\n",
       "    <tr>\n",
       "      <th>max</th>\n",
       "      <td>17.000000</td>\n",
       "      <td>70.000000</td>\n",
       "      <td>5.000000</td>\n",
       "    </tr>\n",
       "  </tbody>\n",
       "</table>\n",
       "</div>"
      ],
      "text/plain": [
       "       Dni od zakupu  Wiek kupującego       Ocena\n",
       "count     467.000000       417.000000  467.000000\n",
       "mean        6.927195        39.844125    2.382227\n",
       "std         2.520101         9.494795    1.079980\n",
       "min         1.000000        18.000000    0.000000\n",
       "25%         5.000000        33.000000    1.500000\n",
       "50%         7.000000        40.000000    2.500000\n",
       "75%         8.000000        46.000000    3.000000\n",
       "max        17.000000        70.000000    5.000000"
      ]
     },
     "execution_count": 7,
     "metadata": {},
     "output_type": "execute_result"
    }
   ],
   "source": [
    "original_df.describe()"
   ]
  },
  {
   "cell_type": "code",
   "execution_count": 19,
   "metadata": {},
   "outputs": [
    {
     "data": {
      "image/png": "[encoded data removed]",
      "text/plain": [
       "<Figure size 432x288 with 1 Axes>"
      ]
     },
     "metadata": {
      "needs_background": "light"
     },
     "output_type": "display_data"
    }
   ],
   "source": [
    "original_df['Marka'].hist()\n",
    "plt.title('Ilość kupionych odkurzaczy w zależności od Marki')\n",
    "plt.ylabel('Ilość kupionych odkurzaczy')\n",
    "plt.show()"
   ]
  },
  {
   "cell_type": "code",
   "execution_count": 17,
   "metadata": {},
   "outputs": [
    {
     "data": {
      "image/png": "[encoded data removed]",
      "text/plain": [
       "<Figure size 432x288 with 1 Axes>"
      ]
     },
     "metadata": {
      "needs_background": "light"
     },
     "output_type": "display_data"
    }
   ],
   "source": [
    "original_df['Wiek kupującego'].hist()\n",
    "plt.title('Ilość kupionych odkurzaczy w zależności od wieku kupującego')\n",
    "plt.xlabel('Wiek kupującego')\n",
    "plt.ylabel('Ilość kupionych odkurzaczy')\n",
    "plt.show()"
   ]
  },
  {
   "cell_type": "code",
   "execution_count": 21,
   "metadata": {},
   "outputs": [
    {
     "data": {
      "image/png": "[encoded data removed]",
      "text/plain": [
       "<Figure size 432x288 with 1 Axes>"
      ]
     },
     "metadata": {
      "needs_background": "light"
     },
     "output_type": "display_data"
    }
   ],
   "source": [
    "original_df['Płeć kupującego'].hist()\n",
    "plt.title('Ilość kupionych odkurzaczy w zależności od płci')\n",
    "plt.xlabel('Płeć kupującego')\n",
    "plt.ylabel('Ilość kupionych odkurzaczy')\n",
    "plt.show()"
   ]
  },
  {
   "cell_type": "code",
   "execution_count": 22,
   "metadata": {},
   "outputs": [
    {
     "data": {
      "image/png": "[encoded data removed]",
      "text/plain": [
       "<Figure size 432x288 with 1 Axes>"
      ]
     },
     "metadata": {
      "needs_background": "light"
     },
     "output_type": "display_data"
    }
   ],
   "source": [
    "original_df['Ocena'].hist()\n",
    "plt.title('Ilość kupionych odkurzaczy w zależności od oceny')\n",
    "plt.xlabel('Ocena kupującego')\n",
    "plt.ylabel('Ilość kupionych odkurzaczy')\n",
    "plt.show()"
   ]
  },
  {
   "cell_type": "markdown",
   "metadata": {},
   "source": [
    "Data tidy - ustawiam barkujące wartości w wieku na medianę z wieku, żeby zachować typ int"
   ]
  },
  {
   "cell_type": "code",
   "execution_count": 26,
   "metadata": {},
   "outputs": [
    {
     "data": {
      "text/html": [
       "<div>\n",
       "<style scoped>\n",
       "    .dataframe tbody tr th:only-of-type {\n",
       "        vertical-align: middle;\n",
       "    }\n",
       "\n",
       "    .dataframe tbody tr th {\n",
       "        vertical-align: top;\n",
       "    }\n",
       "\n",
       "    .dataframe thead th {\n",
       "        text-align: right;\n",
       "    }\n",
       "</style>\n",
       "<table border=\"1\" class=\"dataframe\">\n",
       "  <thead>\n",
       "    <tr style=\"text-align: right;\">\n",
       "      <th></th>\n",
       "      <th>Dni od zakupu</th>\n",
       "      <th>Marka</th>\n",
       "      <th>Wiek kupującego</th>\n",
       "      <th>Płeć kupującego</th>\n",
       "      <th>Ocena</th>\n",
       "    </tr>\n",
       "  </thead>\n",
       "  <tbody>\n",
       "    <tr>\n",
       "      <th>0</th>\n",
       "      <td>4</td>\n",
       "      <td>Samsung</td>\n",
       "      <td>39.0</td>\n",
       "      <td>M</td>\n",
       "      <td>2.0</td>\n",
       "    </tr>\n",
       "    <tr>\n",
       "      <th>1</th>\n",
       "      <td>7</td>\n",
       "      <td>Dyson</td>\n",
       "      <td>39.0</td>\n",
       "      <td>M</td>\n",
       "      <td>1.0</td>\n",
       "    </tr>\n",
       "    <tr>\n",
       "      <th>2</th>\n",
       "      <td>5</td>\n",
       "      <td>Dyson</td>\n",
       "      <td>34.0</td>\n",
       "      <td>K</td>\n",
       "      <td>2.0</td>\n",
       "    </tr>\n",
       "    <tr>\n",
       "      <th>3</th>\n",
       "      <td>8</td>\n",
       "      <td>Samsung</td>\n",
       "      <td>40.0</td>\n",
       "      <td>K</td>\n",
       "      <td>1.0</td>\n",
       "    </tr>\n",
       "    <tr>\n",
       "      <th>4</th>\n",
       "      <td>4</td>\n",
       "      <td>Dyson</td>\n",
       "      <td>42.0</td>\n",
       "      <td>M</td>\n",
       "      <td>0.5</td>\n",
       "    </tr>\n",
       "    <tr>\n",
       "      <th>5</th>\n",
       "      <td>5</td>\n",
       "      <td>Dyson</td>\n",
       "      <td>40.0</td>\n",
       "      <td>K</td>\n",
       "      <td>2.0</td>\n",
       "    </tr>\n",
       "    <tr>\n",
       "      <th>6</th>\n",
       "      <td>9</td>\n",
       "      <td>Samsung</td>\n",
       "      <td>60.0</td>\n",
       "      <td>M</td>\n",
       "      <td>3.5</td>\n",
       "    </tr>\n",
       "    <tr>\n",
       "      <th>7</th>\n",
       "      <td>9</td>\n",
       "      <td>Electrolux</td>\n",
       "      <td>48.0</td>\n",
       "      <td>M</td>\n",
       "      <td>1.5</td>\n",
       "    </tr>\n",
       "  </tbody>\n",
       "</table>\n",
       "</div>"
      ],
      "text/plain": [
       "   Dni od zakupu       Marka  Wiek kupującego Płeć kupującego  Ocena\n",
       "0              4     Samsung             39.0               M    2.0\n",
       "1              7       Dyson             39.0               M    1.0\n",
       "2              5       Dyson             34.0               K    2.0\n",
       "3              8     Samsung             40.0               K    1.0\n",
       "4              4       Dyson             42.0               M    0.5\n",
       "5              5       Dyson             40.0               K    2.0\n",
       "6              9     Samsung             60.0               M    3.5\n",
       "7              9  Electrolux             48.0               M    1.5"
      ]
     },
     "execution_count": 26,
     "metadata": {},
     "output_type": "execute_result"
    }
   ],
   "source": [
    "original_df.fillna(original_df['Wiek kupującego'].median(), inplace=True)\n",
    "original_df.head(8)"
   ]
  },
  {
   "cell_type": "markdown",
   "metadata": {},
   "source": [
    "Zapis zaktualizowanego dataframe"
   ]
  },
  {
   "cell_type": "code",
   "execution_count": 27,
   "metadata": {},
   "outputs": [],
   "source": [
    "original_df.to_csv('..\\\\Documents\\\\data_appendix.csv')"
   ]
  }
 ],
 "metadata": {
  "kernelspec": {
   "display_name": "Python 3.9.4 64-bit",
   "language": "python",
   "name": "python3"
  },
  "language_info": {
   "codemirror_mode": {
    "name": "ipython",
    "version": 3
   },
   "file_extension": ".py",
   "mimetype": "text/x-python",
   "name": "python",
   "nbconvert_exporter": "python",
   "pygments_lexer": "ipython3",
   "version": "3.9.4"
  },
  "orig_nbformat": 4,
  "vscode": {
   "interpreter": {
    "hash": "b7252c33f9540e92d27789de2269a062a4625258ba282fe7e852546783e4e4f9"
   }
  }
 },
 "nbformat": 4,
 "nbformat_minor": 2
}
