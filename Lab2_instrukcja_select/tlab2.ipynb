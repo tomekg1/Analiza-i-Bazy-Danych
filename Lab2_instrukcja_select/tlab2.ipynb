{
 "cells": [
  {
   "cell_type": "code",
   "execution_count": 45,
   "metadata": {},
   "outputs": [],
   "source": [
    "from sqlalchemy import create_engine\n",
    "import psycopg2 as pg\n",
    "import pandas as pd\n",
    "import warnings\n",
    "\n",
    "warnings.filterwarnings('ignore')\n",
    "\n",
    "conn = pg.connect(host='pgsql-196447.vipserv.org', port='5432', dbname='wbauer_adb', user='wbauer_adb', password='adb2020')\n",
    "\n",
    "\n"
   ]
  },
  {
   "cell_type": "code",
   "execution_count": 46,
   "metadata": {},
   "outputs": [
    {
     "name": "stdout",
     "output_type": "stream",
     "text": [
      "     city_id                city  country_id         last_update\n",
      "0          1  A Corua (La Corua)          87 2006-02-15 09:45:25\n",
      "1          2                Abha          82 2006-02-15 09:45:25\n",
      "2          3           Abu Dhabi         101 2006-02-15 09:45:25\n",
      "3          4                Acua          60 2006-02-15 09:45:25\n",
      "4          5               Adana          97 2006-02-15 09:45:25\n",
      "..       ...                 ...         ...                 ...\n",
      "595      596               Zaria          69 2006-02-15 09:45:25\n",
      "596      597        Zeleznogorsk          80 2006-02-15 09:45:25\n",
      "597      598         Zhezqazghan          51 2006-02-15 09:45:25\n",
      "598      599            Zhoushan          23 2006-02-15 09:45:25\n",
      "599      600          Ziguinchor          83 2006-02-15 09:45:25\n",
      "\n",
      "[600 rows x 4 columns]\n"
     ]
    }
   ],
   "source": [
    "df = pd.read_sql('SELECT * FROM city', con=conn)\n",
    "print(df)\n",
    "\n"
   ]
  },
  {
   "cell_type": "code",
   "execution_count": 47,
   "metadata": {},
   "outputs": [
    {
     "name": "stdout",
     "output_type": "stream",
     "text": [
      "              city  country_id\n",
      "0        Bydgoszcz          76\n",
      "1      Czestochowa          76\n",
      "2  Jastrzebie-Zdrj          76\n",
      "3           Kalisz          76\n",
      "4           Lublin          76\n",
      "5            Plock          76\n",
      "6            Tychy          76\n",
      "7          Wroclaw          76\n"
     ]
    }
   ],
   "source": [
    "s = \"SELECT city, country_id FROM city WHERE country_id = %(polaaand)s\"\n",
    "df = pd.read_sql(s, con=conn, params={'polaaand': 76})\n",
    "print(df)"
   ]
  },
  {
   "cell_type": "markdown",
   "metadata": {},
   "source": [
    "ZADANIE 1"
   ]
  },
  {
   "cell_type": "code",
   "execution_count": 48,
   "metadata": {},
   "outputs": [
    {
     "name": "stdout",
     "output_type": "stream",
     "text": [
      "   count\n",
      "0     16\n"
     ]
    }
   ],
   "source": [
    "s = \"SELECT COUNT(category_id) FROM category\"\n",
    "df = pd.read_sql(s, conn)\n",
    "print(df)"
   ]
  },
  {
   "cell_type": "markdown",
   "metadata": {},
   "source": [
    "ZADANIE 2"
   ]
  },
  {
   "cell_type": "code",
   "execution_count": 49,
   "metadata": {},
   "outputs": [
    {
     "name": "stdout",
     "output_type": "stream",
     "text": [
      "           name\n",
      "0        Action\n",
      "1     Animation\n",
      "2      Children\n",
      "3      Classics\n",
      "4        Comedy\n",
      "5   Documentary\n",
      "6         Drama\n",
      "7        Family\n",
      "8       Foreign\n",
      "9         Games\n",
      "10       Horror\n",
      "11        Music\n",
      "12          New\n",
      "13       Sci-Fi\n",
      "14       Sports\n",
      "15       Travel\n"
     ]
    }
   ],
   "source": [
    "s = \"SELECT name FROM category ORDER BY name ASC\"\n",
    "df = pd.read_sql(s, conn)\n",
    "print(df)"
   ]
  },
  {
   "cell_type": "markdown",
   "metadata": {},
   "source": [
    "ZADANIE 3"
   ]
  },
  {
   "cell_type": "code",
   "execution_count": 50,
   "metadata": {},
   "outputs": [
    {
     "name": "stdout",
     "output_type": "stream",
     "text": [
      "1000\n",
      "   release_year      title\n",
      "0          2006  Zorro Ark\n",
      "   release_year            title\n",
      "0          2006  Chamber Italian\n"
     ]
    }
   ],
   "source": [
    "s1 = \"SELECT release_year FROM film\"\n",
    "df1 = pd.read_sql(s1, conn)\n",
    "df1_len = df1.shape[0]\n",
    "print(df1_len)\n",
    "# najstarszy\n",
    "s = \"SELECT release_year, title FROM film ORDER BY release_year ASC OFFSET %(df1_len)s\"\n",
    "df = pd.read_sql(s, conn, params={'df1_len': df1_len-1})\n",
    "print(df)\n",
    "\n",
    "# najnowszy\n",
    "s = \"SELECT release_year, title FROM film ORDER BY release_year ASC LIMIT 1\"\n",
    "df = pd.read_sql(s, conn)\n",
    "print(df)"
   ]
  },
  {
   "cell_type": "markdown",
   "metadata": {},
   "source": [
    "ZADANIE 4"
   ]
  },
  {
   "cell_type": "code",
   "execution_count": 51,
   "metadata": {},
   "outputs": [
    {
     "name": "stdout",
     "output_type": "stream",
     "text": [
      "   count\n",
      "0   7380\n"
     ]
    }
   ],
   "source": [
    "import datetime\n",
    "\n",
    "\n",
    "s = \"\"\"SELECT COUNT(rental_date) FROM rental WHERE rental_date \n",
    "BETWEEN %(rental_date)s AND %(rd2)s\"\"\"\n",
    "df = pd.read_sql(s, conn, params={'rental_date': datetime.datetime(2005, 7, 1, 0, 0, 1), 'rd2' : datetime.datetime(2005, 8, 1, 23, 59, 59)})\n",
    "print(df)"
   ]
  },
  {
   "cell_type": "markdown",
   "metadata": {},
   "source": [
    "Zadanie 5"
   ]
  },
  {
   "cell_type": "code",
   "execution_count": 52,
   "metadata": {},
   "outputs": [
    {
     "name": "stdout",
     "output_type": "stream",
     "text": [
      "   count\n",
      "0      0\n"
     ]
    }
   ],
   "source": [
    "s = \"SELECT COUNT(rental_date) FROM rental WHERE rental_date BETWEEN %(rental_date)s AND %(rd2)s\"\n",
    "df = pd.read_sql(s, conn, params={'rental_date': datetime.datetime(2010, 1, 1, 0, 0, 0), 'rd2' : datetime.datetime(2011, 2, 1, 23, 59, 59)})\n",
    "print(df)"
   ]
  },
  {
   "cell_type": "markdown",
   "metadata": {},
   "source": [
    "Zadanie 6"
   ]
  },
  {
   "cell_type": "code",
   "execution_count": 53,
   "metadata": {},
   "outputs": [
    {
     "name": "stdout",
     "output_type": "stream",
     "text": [
      "     max\n",
      "0  11.99\n"
     ]
    }
   ],
   "source": [
    "s = \"SELECT MAX(amount) FROM payment\"\n",
    "df = pd.read_sql(s, conn)\n",
    "print(df)"
   ]
  },
  {
   "cell_type": "markdown",
   "metadata": {},
   "source": [
    "Zadanie 7"
   ]
  },
  {
   "cell_type": "code",
   "execution_count": 54,
   "metadata": {},
   "outputs": [
    {
     "name": "stdout",
     "output_type": "stream",
     "text": [
      "   first_name  last_name\n",
      "0     Johnnie   Chisholm\n",
      "1     Wallace      Slone\n",
      "2      Bertha   Ferguson\n",
      "3     Russell    Brinson\n",
      "4    Michelle      Clark\n",
      "5       Brian      Wyman\n",
      "6      Tracey    Barrett\n",
      "7     Stephen     Qualls\n",
      "8       Ruben      Geary\n",
      "9   Constance       Reid\n",
      "10      Carol     Garcia\n",
      "11      Elsie     Kelley\n",
      "12      Sonia    Gregory\n",
      "13       Leah     Curtis\n",
      "14   Marjorie     Tucker\n",
      "15     Rodney    Moeller\n",
      "16      Velma      Lucas\n",
      "17     Sidney   Burleson\n",
      "18     Gladys   Hamilton\n",
      "19      Frank   Waggoner\n",
      "20    Marilyn       Ross\n",
      "21     Jimmie  Eggleston\n",
      "22         Jo     Fowler\n",
      "23       Olga    Jimenez\n"
     ]
    }
   ],
   "source": [
    "s = \"\"\"\n",
    "SELECT first_name, last_name FROM customer WHERE address_id IN\n",
    "(SELECT address_id FROM address WHERE city_id IN\n",
    "(SELECT city_id FROM city WHERE country_id IN\n",
    "(SELECT country_id FROM country WHERE country IN (%(Poland)s, %(Nigeria)s, %(Bangladesh)s))))\n",
    "\"\"\"\n",
    "df = pd.read_sql(s, conn, params={'Poland':'Poland', 'Nigeria': 'Nigeria', 'Bangladesh': 'Bangladesh'})\n",
    "print(df)"
   ]
  },
  {
   "cell_type": "markdown",
   "metadata": {},
   "source": [
    "ZADANIE 8"
   ]
  },
  {
   "cell_type": "code",
   "execution_count": 55,
   "metadata": {},
   "outputs": [
    {
     "name": "stdout",
     "output_type": "stream",
     "text": [
      "     country\n",
      "0  Australia\n",
      "1     Canada\n"
     ]
    }
   ],
   "source": [
    "s = \"\"\"SELECT country FROM country WHERE country_id IN\n",
    "(SELECT country_id FROM city WHERE city_id IN\n",
    "(SELECT city_id FROM address WHERE address_id IN\n",
    "(SELECT address_id FROM staff)))\"\"\"\n",
    "\n",
    "\n",
    "df = pd.read_sql(s, conn)\n",
    "print(df)"
   ]
  },
  {
   "cell_type": "code",
   "execution_count": 56,
   "metadata": {},
   "outputs": [
    {
     "name": "stdout",
     "output_type": "stream",
     "text": [
      "  first_name\n",
      "0       Mike\n",
      "1        Jon\n"
     ]
    }
   ],
   "source": [
    "s = 'SELECT first_name FROM staff'\n",
    "df = pd.read_sql(s, conn)\n",
    "print(df)\n"
   ]
  },
  {
   "cell_type": "markdown",
   "metadata": {},
   "source": [
    "ZADANIE 9"
   ]
  },
  {
   "cell_type": "code",
   "execution_count": 57,
   "metadata": {},
   "outputs": [
    {
     "name": "stdout",
     "output_type": "stream",
     "text": [
      "   count\n",
      "0      0\n"
     ]
    }
   ],
   "source": [
    "s = \"\"\"SELECT COUNT(first_name) FROM staff WHERE address_id IN\n",
    "(SELECT address_id FROM address WHERE city_id IN\n",
    "(SELECT city_id FROM city WHERE country_id IN\n",
    "(SELECT country_id FROM country WHERE country IN (%(Argentina)s, %(Spain)s))))\"\"\"\n",
    "\n",
    "df = pd.read_sql(s, conn, params={'Argentina': 'Argentina', 'Spain': 'Spain'})\n",
    "print(df)"
   ]
  },
  {
   "cell_type": "markdown",
   "metadata": {},
   "source": [
    "ZADANIE 10"
   ]
  },
  {
   "cell_type": "code",
   "execution_count": 58,
   "metadata": {},
   "outputs": [
    {
     "name": "stdout",
     "output_type": "stream",
     "text": [
      "           name\n",
      "0        Action\n",
      "1     Animation\n",
      "2      Children\n",
      "3      Classics\n",
      "4        Comedy\n",
      "5   Documentary\n",
      "6         Drama\n",
      "7        Family\n",
      "8       Foreign\n",
      "9         Games\n",
      "10       Horror\n",
      "11        Music\n",
      "12          New\n",
      "13       Sci-Fi\n",
      "14       Sports\n",
      "15       Travel\n"
     ]
    }
   ],
   "source": [
    "s = \"\"\"SELECT name FROM category WHERE category_id IN\n",
    "(SELECT category_id FROM film_category WHERE film_id IN\n",
    "(SELECT film_id FROM inventory WHERE inventory_id IN\n",
    "(SELECT inventory_id FROM rental WHERE customer_id IN\n",
    "(SELECT customer_id FROM customer))))\"\"\"\n",
    "\n",
    "df = pd.read_sql(s, conn)\n",
    "print(df)"
   ]
  },
  {
   "cell_type": "markdown",
   "metadata": {},
   "source": [
    "ZADANIE 11"
   ]
  },
  {
   "cell_type": "code",
   "execution_count": 59,
   "metadata": {},
   "outputs": [
    {
     "name": "stdout",
     "output_type": "stream",
     "text": [
      "           name\n",
      "0        Action\n",
      "1     Animation\n",
      "2      Children\n",
      "3      Classics\n",
      "4        Comedy\n",
      "5   Documentary\n",
      "6         Drama\n",
      "7        Family\n",
      "8       Foreign\n",
      "9         Games\n",
      "10       Horror\n",
      "11        Music\n",
      "12          New\n",
      "13       Sci-Fi\n",
      "14       Sports\n",
      "15       Travel\n"
     ]
    }
   ],
   "source": [
    "s = '''\n",
    "SELECT name FROM category WHERE category_id IN\n",
    "(SELECT category_id FROM film_category WHERE film_id IN\n",
    "(SELECT film_id FROM inventory WHERE inventory_id IN\n",
    "(SELECT inventory_id FROM rental WHERE customer_id IN\n",
    "(SELECT customer_id FROM customer WHERE address_id IN\n",
    "(SELECT address_id FROM address WHERE city_id IN\n",
    "(SELECT city_id FROM city WHERE country_id IN\n",
    "(SELECT country_id FROM country WHERE country=%(United States)s)))))))\n",
    "'''\n",
    "\n",
    "df = pd.read_sql(s, conn, params={'United States': 'United States'})\n",
    "print(df)"
   ]
  },
  {
   "cell_type": "markdown",
   "metadata": {},
   "source": [
    "ZADANIE 12"
   ]
  },
  {
   "cell_type": "code",
   "execution_count": 60,
   "metadata": {},
   "outputs": [
    {
     "name": "stdout",
     "output_type": "stream",
     "text": [
      "                title\n",
      "0      Express Lonely\n",
      "1     Bilko Anonymous\n",
      "2    Effect Gladiator\n",
      "3   Contact Anonymous\n",
      "4         Others Soup\n",
      "..                ...\n",
      "64      Hanky October\n",
      "65    Tourist Pelican\n",
      "66   Detective Vision\n",
      "67       None Spiking\n",
      "68     Homeward Cider\n",
      "\n",
      "[69 rows x 1 columns]\n"
     ]
    }
   ],
   "source": [
    "s = '''\n",
    "SELECT title FROM film WHERE film_id IN\n",
    "(SELECT film_id FROM film_actor WHERE actor_id IN\n",
    "(SELECT actor_id FROM actor WHERE\n",
    "(first_name=(%(Olympia)s) AND last_name=%(Pfeiffer)s) OR\n",
    "(first_name=(%(Julia)s) AND last_name=%(Zellweger)s) OR\n",
    "(first_name=(%(Ellen)s) AND last_name=%(Presley)s)))\n",
    "'''\n",
    "#WHERE (first_name, last_name) IN (%(Uma)s, %(Wood)s)\n",
    "\n",
    "df = pd.read_sql(s, conn, params={'Olympia': 'Olympia', 'Pfeiffer': 'Pfeiffer', 'Julia': 'Julia', 'Zellweger': 'Zellweger', 'Ellen': 'Ellen', 'Presley': 'Presley'})\n",
    "print(df)"
   ]
  }
 ],
 "metadata": {
  "kernelspec": {
   "display_name": "Python 3.9.4 64-bit",
   "language": "python",
   "name": "python3"
  },
  "language_info": {
   "codemirror_mode": {
    "name": "ipython",
    "version": 3
   },
   "file_extension": ".py",
   "mimetype": "text/x-python",
   "name": "python",
   "nbconvert_exporter": "python",
   "pygments_lexer": "ipython3",
   "version": "3.9.4"
  },
  "orig_nbformat": 4,
  "vscode": {
   "interpreter": {
    "hash": "b7252c33f9540e92d27789de2269a062a4625258ba282fe7e852546783e4e4f9"
   }
  }
 },
 "nbformat": 4,
 "nbformat_minor": 2
}
